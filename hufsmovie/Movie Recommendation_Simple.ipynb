{
 "cells": [
  {
   "cell_type": "markdown",
   "id": "167dccf9",
   "metadata": {},
   "source": [
    "# Movie Recommendation"
   ]
  },
  {
   "cell_type": "markdown",
   "id": "a5c641c0",
   "metadata": {},
   "source": [
    "## Call Data"
   ]
  },
  {
   "cell_type": "code",
   "execution_count": 1,
   "id": "d39873e8",
   "metadata": {},
   "outputs": [],
   "source": [
    "import pandas as pd\n",
    "import numpy as np\n",
    "import json"
   ]
  },
  {
   "cell_type": "code",
   "execution_count": 2,
   "id": "a93250fb",
   "metadata": {},
   "outputs": [],
   "source": [
    "movies = pd.read_csv('C:/Users/maste/Documents/대학교/대학교 3학년 2학기/기계학습/Final Project/tmdb_5000_movies.csv')\n",
    "credits = pd.read_csv('C:/Users/maste/Documents/대학교/대학교 3학년 2학기/기계학습/Final Project/tmdb_5000_credits.csv')"
   ]
  },
  {
   "cell_type": "markdown",
   "id": "d93eed6c",
   "metadata": {},
   "source": [
    "## Data Cleaning"
   ]
  },
  {
   "cell_type": "code",
   "execution_count": 3,
   "id": "bdee78f0",
   "metadata": {},
   "outputs": [],
   "source": [
    "movies['genres'] = movies['genres'].apply(json.loads)\n",
    "for index, row in movies.iterrows():\n",
    "    genre_list = [genre['name'] for genre in row['genres']]\n",
    "    movies.at[index, 'genres'] = str(genre_list)"
   ]
  },
  {
   "cell_type": "code",
   "execution_count": 4,
   "id": "d8811e78",
   "metadata": {},
   "outputs": [],
   "source": [
    "movies['keywords'] = movies['keywords'].apply(json.loads)\n",
    "for index, row in movies.iterrows():\n",
    "    keywords_list = [keywords['name'] for keywords in row['keywords']]\n",
    "    movies.at[index, 'keywords'] = str(keywords_list)"
   ]
  },
  {
   "cell_type": "code",
   "execution_count": 5,
   "id": "a6772056",
   "metadata": {},
   "outputs": [],
   "source": [
    "credits['cast'] = credits['cast'].apply(json.loads)\n",
    "for index, row in credits.iterrows():\n",
    "    cast_list = [cast['name'] for cast in row['cast']]\n",
    "    credits.at[index, 'cast'] = str(cast_list)"
   ]
  },
  {
   "cell_type": "code",
   "execution_count": 6,
   "id": "9d858e5b",
   "metadata": {},
   "outputs": [],
   "source": [
    "credits['crew'] = credits['crew'].apply(json.loads)\n",
    "def get_directors(x):\n",
    "    directors = [crew['name'] for crew in x if crew['job'] == 'Director']\n",
    "    return directors\n",
    "credits['crew'] = credits['crew'].apply(get_directors)\n",
    "credits.rename(columns={'crew':'director'},inplace=True)\n"
   ]
  },
  {
   "cell_type": "code",
   "execution_count": 7,
   "id": "f823c23f",
   "metadata": {},
   "outputs": [],
   "source": [
    "movies = movies.merge(credits,left_on='id',right_on='movie_id',how='left')\n",
    "movies = movies[['id','original_title','genres','cast','vote_average','director','keywords']]"
   ]
  },
  {
   "cell_type": "code",
   "execution_count": 8,
   "id": "604aac42",
   "metadata": {
    "scrolled": true
   },
   "outputs": [],
   "source": [
    "new_id = list(range(0,movies.shape[0]))\n",
    "movies['new_id'] = new_id\n",
    "movies = movies[['new_id','original_title','genres','cast','vote_average','director','keywords']]"
   ]
  },
  {
   "cell_type": "markdown",
   "id": "5224014d",
   "metadata": {},
   "source": [
    "### Genre Column"
   ]
  },
  {
   "cell_type": "code",
   "execution_count": 9,
   "id": "6c3f3b8d",
   "metadata": {},
   "outputs": [],
   "source": [
    "movies['genres'] = movies['genres'].str.strip('[]').str.replace(' ','').str.replace(\"'\",'')\n",
    "movies['genres'] = movies['genres'].str.split(',')"
   ]
  },
  {
   "cell_type": "code",
   "execution_count": 10,
   "id": "37467fea",
   "metadata": {},
   "outputs": [],
   "source": [
    "for i,j in zip(movies['genres'],movies.index):\n",
    "    list2=[]\n",
    "    list2=i\n",
    "    list2.sort()\n",
    "    movies.loc[j,'genres'] = str(list2)\n",
    "movies['genres'] = movies['genres'].str.strip('[]').str.replace(' ','').str.replace(\"'\",'')\n",
    "movies['genres'] = movies['genres'].str.split(',')"
   ]
  },
  {
   "cell_type": "code",
   "execution_count": 11,
   "id": "a863b107",
   "metadata": {},
   "outputs": [],
   "source": [
    "genreList = []\n",
    "for index, row in movies.iterrows():\n",
    "    genres = row[\"genres\"]\n",
    "    \n",
    "    for genre in genres:\n",
    "        if genre not in genreList:\n",
    "            genreList.append(genre)"
   ]
  },
  {
   "cell_type": "code",
   "execution_count": 12,
   "id": "c436a726",
   "metadata": {},
   "outputs": [],
   "source": [
    "def binary(genre_list):\n",
    "    binaryList = []\n",
    "    \n",
    "    for genre in genreList:\n",
    "        if genre in genre_list:\n",
    "            binaryList.append(1)\n",
    "        else:\n",
    "            binaryList.append(0)\n",
    "    \n",
    "    return binaryList"
   ]
  },
  {
   "cell_type": "code",
   "execution_count": 13,
   "id": "55a613d3",
   "metadata": {},
   "outputs": [],
   "source": [
    "movies['binary_genres'] = movies['genres'].apply(lambda x: binary(x))"
   ]
  },
  {
   "cell_type": "markdown",
   "id": "98bbe446",
   "metadata": {},
   "source": [
    "### Director Column"
   ]
  },
  {
   "cell_type": "code",
   "execution_count": 14,
   "id": "78c8bf4a",
   "metadata": {},
   "outputs": [],
   "source": [
    "def xstr(s):\n",
    "    if s is None:\n",
    "        return ''\n",
    "    return str(s)\n",
    "movies['director'] = movies['director'].apply(xstr)"
   ]
  },
  {
   "cell_type": "code",
   "execution_count": 15,
   "id": "c82d9f33",
   "metadata": {},
   "outputs": [],
   "source": [
    "directorList=[]\n",
    "for i in movies['director']:\n",
    "    if i not in directorList:\n",
    "        directorList.append(i)"
   ]
  },
  {
   "cell_type": "code",
   "execution_count": 16,
   "id": "b370df99",
   "metadata": {},
   "outputs": [],
   "source": [
    "def binary(director_list):\n",
    "    binaryList = []  \n",
    "    for direct in directorList:\n",
    "        if direct in director_list:\n",
    "            binaryList.append(1)\n",
    "        else:\n",
    "            binaryList.append(0)\n",
    "    return binaryList"
   ]
  },
  {
   "cell_type": "code",
   "execution_count": 17,
   "id": "ca1ca651",
   "metadata": {},
   "outputs": [],
   "source": [
    "movies['binary_director'] = movies['director'].apply(lambda x: binary(x))"
   ]
  },
  {
   "cell_type": "markdown",
   "id": "fc31aa7b",
   "metadata": {},
   "source": [
    "### Cast Column"
   ]
  },
  {
   "cell_type": "code",
   "execution_count": 18,
   "id": "2e095dbc",
   "metadata": {},
   "outputs": [],
   "source": [
    "movies['cast'] = movies['cast'].str.strip('[]').str.replace(' ','').str.replace(\"'\",'').str.replace('\"','')\n",
    "movies['cast'] = movies['cast'].str.split(',')"
   ]
  },
  {
   "cell_type": "code",
   "execution_count": 19,
   "id": "5683e70c",
   "metadata": {},
   "outputs": [],
   "source": [
    "movies['cast'] = movies['cast'].apply(lambda x: sorted(x[:4]))\n",
    "movies['cast'] = movies['cast'].apply(lambda x: ','.join(x))"
   ]
  },
  {
   "cell_type": "code",
   "execution_count": 20,
   "id": "07d0f6e7",
   "metadata": {},
   "outputs": [],
   "source": [
    "castList = []\n",
    "for index, row in movies.iterrows():\n",
    "    cast = row[\"cast\"]\n",
    "    \n",
    "    for i in cast:\n",
    "        if i not in castList:\n",
    "            castList.append(i)"
   ]
  },
  {
   "cell_type": "code",
   "execution_count": 21,
   "id": "55a0e70b",
   "metadata": {},
   "outputs": [],
   "source": [
    "def binary(cast_list):\n",
    "    binaryList = []\n",
    "    \n",
    "    for genre in castList:\n",
    "        if genre in cast_list:\n",
    "            binaryList.append(1)\n",
    "        else:\n",
    "            binaryList.append(0)\n",
    "    \n",
    "    return binaryList"
   ]
  },
  {
   "cell_type": "code",
   "execution_count": 22,
   "id": "168f9d67",
   "metadata": {},
   "outputs": [],
   "source": [
    "movies['binary_cast'] = movies['cast'].apply(lambda x: binary(x))"
   ]
  },
  {
   "cell_type": "markdown",
   "id": "c7b6535f",
   "metadata": {},
   "source": [
    "### Keywords Column"
   ]
  },
  {
   "cell_type": "code",
   "execution_count": 23,
   "id": "17732bd8",
   "metadata": {},
   "outputs": [],
   "source": [
    "movies['keywords'] = (\n",
    "    movies['keywords']\n",
    "    .str.strip('[]')\n",
    "    .str.replace(' ', '')\n",
    "    .str.replace(\"'\", '')\n",
    "    .str.replace('\"', '')\n",
    ")\n",
    "movies['keywords'] = movies['keywords'].str.split(',')"
   ]
  },
  {
   "cell_type": "code",
   "execution_count": 24,
   "id": "0f138eee",
   "metadata": {},
   "outputs": [],
   "source": [
    "words_list = []\n",
    "for index, row in movies.iterrows():\n",
    "    genres = row[\"keywords\"]\n",
    "    \n",
    "    for genre in genres:\n",
    "        if genre not in words_list:\n",
    "            words_list.append(genre)"
   ]
  },
  {
   "cell_type": "code",
   "execution_count": 25,
   "id": "6b77332a",
   "metadata": {},
   "outputs": [],
   "source": [
    "def binary(words):\n",
    "    binaryList = []\n",
    "    for genre in words_list:\n",
    "        if genre in words:\n",
    "            binaryList.append(1)\n",
    "        else:\n",
    "            binaryList.append(0)\n",
    "    return binaryList"
   ]
  },
  {
   "cell_type": "code",
   "execution_count": 26,
   "id": "12df63c6",
   "metadata": {
    "scrolled": true
   },
   "outputs": [],
   "source": [
    "movies['binary_words'] = movies['keywords'].apply(lambda x: binary(x))"
   ]
  },
  {
   "cell_type": "code",
   "execution_count": 27,
   "id": "b7b7c2fa",
   "metadata": {},
   "outputs": [],
   "source": [
    "movies = movies[(movies['vote_average']!=0)]\n",
    "movies = movies[movies['director']!='']"
   ]
  },
  {
   "cell_type": "code",
   "execution_count": 28,
   "id": "2b7950c0",
   "metadata": {},
   "outputs": [],
   "source": [
    "movies['new_id']= range(movies.shape[0])"
   ]
  },
  {
   "cell_type": "markdown",
   "id": "86de2ea4",
   "metadata": {},
   "source": [
    "## Similarity Between Movies"
   ]
  },
  {
   "cell_type": "markdown",
   "id": "2802bbe4",
   "metadata": {},
   "source": [
    "### Cosine Similarity"
   ]
  },
  {
   "cell_type": "code",
   "execution_count": 29,
   "id": "f78bd618",
   "metadata": {},
   "outputs": [],
   "source": [
    "from scipy import spatial\n",
    "\n",
    "def Similarity(movieId1, movieId2):\n",
    "    a = movies.iloc[movieId1]\n",
    "    b = movies.iloc[movieId2]\n",
    "    \n",
    "    genresA = a['binary_genres']\n",
    "    genresB = b['binary_genres']\n",
    "    \n",
    "    genreDistance = spatial.distance.cosine(genresA, genresB)\n",
    "    \n",
    "    castA = a['binary_cast']\n",
    "    castB = b['binary_cast']\n",
    "    castDistance = spatial.distance.cosine(castA, castB)\n",
    "    \n",
    "    directA = a['binary_director']\n",
    "    directB = b['binary_director']\n",
    "    directDistance = spatial.distance.cosine(directA, directB)\n",
    "    \n",
    "    wordsA = a['binary_words']\n",
    "    wordsB = b['binary_words']\n",
    "    wordsDistance = spatial.distance.cosine(directA, directB)\n",
    "    \n",
    "    return genreDistance + directDistance + castDistance + wordsDistance"
   ]
  },
  {
   "cell_type": "markdown",
   "id": "bd9e411e",
   "metadata": {},
   "source": [
    "### Recommend Movie"
   ]
  },
  {
   "cell_type": "code",
   "execution_count": 30,
   "id": "51255de0",
   "metadata": {},
   "outputs": [],
   "source": [
    "import operator\n",
    "\n",
    "def recommend_movie(name):\n",
    "    new_movie = movies[movies['original_title'].str.contains(name)].iloc[0].to_frame().T\n",
    "    \n",
    "    print('Selected Movie: ', new_movie.original_title.values[0])\n",
    "    \n",
    "    def getNeighbors(baseMovie, K):\n",
    "        distances = []\n",
    "\n",
    "        for index, movie in movies.iterrows():\n",
    "            if movie['new_id'] != baseMovie['new_id'].values[0].astype(int):\n",
    "                dist = Similarity(baseMovie['new_id'].values[0], movie['new_id'])\n",
    "                distances.append((movie['new_id'], dist))\n",
    "\n",
    "        distances.sort(key=operator.itemgetter(1))\n",
    "        neighbors = []\n",
    "\n",
    "        for x in range(min(K, len(distances))):\n",
    "            neighbors.append(distances[x])\n",
    "\n",
    "        return neighbors\n",
    "    \n",
    "    K = 10\n",
    "    neighbors = getNeighbors(new_movie, K)\n",
    "    \n",
    "    print('\\nRecommended Movies: \\n')\n",
    "    for neighbor in neighbors:\n",
    "        print(\n",
    "        str(movies.iloc[neighbor[0]][1]) +\n",
    "        \" | Genres: \" +\n",
    "        str(movies.iloc[neighbor[0]][2]).strip('[]').replace(' ', '') +\n",
    "        \" | Rating: \" +\n",
    "        str(movies.iloc[neighbor[0]][4]))"
   ]
  },
  {
   "cell_type": "code",
   "execution_count": 31,
   "id": "1d189c56",
   "metadata": {},
   "outputs": [
    {
     "name": "stdout",
     "output_type": "stream",
     "text": [
      "Selected Movie:  The Dark Knight Rises\n"
     ]
    },
    {
     "name": "stderr",
     "output_type": "stream",
     "text": [
      "C:\\Users\\maste\\anaconda3\\lib\\site-packages\\scipy\\spatial\\distance.py:699: RuntimeWarning: invalid value encountered in double_scalars\n",
      "  dist = 1.0 - uv / np.sqrt(uu * vv)\n"
     ]
    },
    {
     "name": "stdout",
     "output_type": "stream",
     "text": [
      "\n",
      "Recommended Movies: \n",
      "\n",
      "The Dark Knight | Genres: 'Action','Crime','Drama','Thriller' | Rating: 8.2\n",
      "Batman Begins | Genres: 'Action','Crime','Drama' | Rating: 7.5\n",
      "The Prestige | Genres: 'Drama','Mystery','Thriller' | Rating: 8.0\n",
      "Insomnia | Genres: 'Crime','Mystery','Thriller' | Rating: 6.8\n",
      "Inception | Genres: 'Action','Adventure','Mystery','ScienceFiction','Thriller' | Rating: 8.1\n",
      "Memento | Genres: 'Mystery','Thriller' | Rating: 8.1\n",
      "Interstellar | Genres: 'Adventure','Drama','ScienceFiction' | Rating: 8.1\n",
      "Takers | Genres: 'Action','Crime','Drama','Thriller' | Rating: 6.0\n",
      "Mercury Rising | Genres: 'Action','Crime','Drama','Thriller' | Rating: 6.0\n",
      "Harry Brown | Genres: 'Action','Crime','Drama','Thriller' | Rating: 6.7\n"
     ]
    }
   ],
   "source": [
    "recommend_movie('The Dark Knight')"
   ]
  },
  {
   "cell_type": "code",
   "execution_count": null,
   "id": "c308bbee",
   "metadata": {},
   "outputs": [],
   "source": []
  }
 ],
 "metadata": {
  "kernelspec": {
   "display_name": "Python 3 (ipykernel)",
   "language": "python",
   "name": "python3"
  },
  "language_info": {
   "codemirror_mode": {
    "name": "ipython",
    "version": 3
   },
   "file_extension": ".py",
   "mimetype": "text/x-python",
   "name": "python",
   "nbconvert_exporter": "python",
   "pygments_lexer": "ipython3",
   "version": "3.9.7"
  }
 },
 "nbformat": 4,
 "nbformat_minor": 5
}
